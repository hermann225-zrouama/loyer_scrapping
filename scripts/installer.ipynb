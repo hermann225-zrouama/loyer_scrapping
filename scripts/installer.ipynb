{
 "cells": [
  {
   "cell_type": "code",
   "execution_count": null,
   "metadata": {},
   "outputs": [],
   "source": [
    "%pip install pandas\n",
    "%pip install numpy\n",
    "%pip install dotenv\n",
    "%pip install spacy\n",
    "%pip install art\n",
    "%pip install selenium\n",
    "%pip install facebook_scraper\n",
    "%pip install multiprocessing\n",
    "%pip install time\n",
    "%pip install matplotlib\n",
    "%pip install seaborn"
   ]
  }
 ],
 "metadata": {
  "kernelspec": {
   "display_name": "base",
   "language": "python",
   "name": "python3"
  },
  "language_info": {
   "name": "python",
   "version": "3.10.9"
  },
  "orig_nbformat": 4,
  "vscode": {
   "interpreter": {
    "hash": "4e5c20be4cbe49f17d02a84224a09475905a4999d7978cfe5f4526747cf13a91"
   }
  }
 },
 "nbformat": 4,
 "nbformat_minor": 2
}
