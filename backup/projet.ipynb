{
 "cells": [
  {
   "cell_type": "code",
   "execution_count": null,
   "metadata": {},
   "outputs": [],
   "source": [
    "#installation de facebook scrapper\n",
    "#!pip install facebook-scraper"
   ]
  },
  {
   "cell_type": "code",
   "execution_count": 4,
   "metadata": {},
   "outputs": [],
   "source": [
    "from selenium import webdriver\n",
    "from webdriver_manager.chrome import ChromeDriverManager\n",
    "from time import sleep\n",
    "from parsel import Selector\n",
    "from selenium.webdriver.common.keys import Keys\n",
    "from facebook_scraper import get_posts\n",
    "from multiprocessing import Pool, cpu_count\n",
    "import re\n",
    "from requests import get\n",
    "import pandas as pd\n",
    "import numpy as np\n",
    "import time\n"
   ]
  },
  {
   "cell_type": "code",
   "execution_count": null,
   "metadata": {},
   "outputs": [],
   "source": []
  },
  {
   "cell_type": "code",
   "execution_count": 22,
   "metadata": {},
   "outputs": [],
   "source": [
    "# initialisation de selemium\n",
    "def rechercheGoogle(localite,nombrePage):\n",
    "    # chargement de webdriver et du navigateur\n",
    "    \n",
    "    driver = webdriver.Chrome(ChromeDriverManager().install())\n",
    "    # aller sur facebook\n",
    "    driver.get('http://www.google.com')\n",
    "    # recherche le champs de saisi\n",
    "    search_query = driver.find_element_by_name('q')\n",
    "    search_query.send_keys('site:facebook.com AND'+'\"'+localite +'\"AND \"'+ \"maison\" +'\"')\n",
    "    search_query.send_keys(Keys.RETURN)\n",
    "    test=True\n",
    "    n=0\n",
    "    lienGroup=[]\n",
    "    while test:\n",
    "        if n<nombrePage:\n",
    "            try:\n",
    "            ####### recuperer les liens des differents groupes\n",
    "                facebook_urls = driver.find_elements_by_xpath(\"//*[@class='yuRUbf']/a\")\n",
    "                for url in facebook_urls:\n",
    "                    if \"facebook\" in url.get_attribute(\"href\"):\n",
    "                        for id in range(len(url.get_attribute(\"href\").split(\"/\"))):\n",
    "                            if url.get_attribute(\"href\").split(\"/\")[id]==\"groups\":\n",
    "                                lienGroup.append(url.get_attribute(\"href\").split(\"/\")[id+1])\n",
    "                                break\n",
    "                            \n",
    "                suivantpage = driver.find_element_by_id('pnnext')\n",
    "                sleep(5)\n",
    "                suivantpage.click()\n",
    "                n=n+1\n",
    "            except:\n",
    "                    test=False\n",
    "        else:\n",
    "                test=False\n",
    "\n",
    "    return lienGroup\n",
    "\n",
    "            "
   ]
  },
  {
   "cell_type": "code",
   "execution_count": null,
   "metadata": {},
   "outputs": [],
   "source": [
    "def postGroup(nbpage,idGroup,nMax):\n",
    "    n=0\n",
    "    ListPost=[]\n",
    "    for post in get_posts(idGroup, cookies='cookies.txt', extra_info=True, pages=nbpage, options={\"comments\": False}):\n",
    "        print(post)\n",
    "        ListPost.append(post)\n",
    "        if n==nMax:\n",
    "            break\n",
    "    return ListPost"
   ]
  },
  {
   "cell_type": "code",
   "execution_count": null,
   "metadata": {},
   "outputs": [],
   "source": [
    "ListIdGroup=rechercheGoogle()"
   ]
  },
  {
   "cell_type": "code",
   "execution_count": null,
   "metadata": {},
   "outputs": [],
   "source": [
    "def multiprocessing(postGroup , list):\n",
    "    with Pool(cpu_count()) as p:\n",
    "        print(cpu_count())\n",
    "        rec=p.starmap( postGroup,list)    \n",
    "        p.terminate()\n",
    "        p.join()\n",
    "        return rec\n",
    "# Lanceur du script\n",
    "if __name__ == '__main__':\n",
    "        start_time = time.time()\n",
    "        list = ListIdGroup\n",
    "        ListeDictionnaire=multiprocessing(postGroup , list)\n",
    "        # decomenter la ligne suivante pour afficher les valeurs\n",
    "        #print(ListeDictionnaire)\n",
    "        #pd.DataFrame(ListeDictionnaire).to_csv(\"output.csv\")\n",
    "        end_time = time.time() - start_time\n",
    "        # Fin des traitement\n",
    "        print(\"Temps total de compilation \"+str(end_time))\n",
    "      "
   ]
  }
 ],
 "metadata": {
  "kernelspec": {
   "display_name": "ml",
   "language": "python",
   "name": "python3"
  },
  "language_info": {
   "codemirror_mode": {
    "name": "ipython",
    "version": 3
   },
   "file_extension": ".py",
   "mimetype": "text/x-python",
   "name": "python",
   "nbconvert_exporter": "python",
   "pygments_lexer": "ipython3",
   "version": "3.8.6"
  },
  "orig_nbformat": 4,
  "vscode": {
   "interpreter": {
    "hash": "7473ed803b1b416f48093b73458848e73ed5aebc736590e8f5a7a259d9c2dcc7"
   }
  }
 },
 "nbformat": 4,
 "nbformat_minor": 2
}
