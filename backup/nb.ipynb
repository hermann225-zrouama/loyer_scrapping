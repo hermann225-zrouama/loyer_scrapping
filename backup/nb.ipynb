{
 "cells": [
  {
   "cell_type": "code",
   "execution_count": 1,
   "metadata": {},
   "outputs": [
    {
     "data": {
      "text/plain": [
       "True"
      ]
     },
     "execution_count": 1,
     "metadata": {},
     "output_type": "execute_result"
    }
   ],
   "source": [
    "from dotenv import load_dotenv, dotenv_values\n",
    "\n",
    "from selenium import webdriver\n",
    "from selenium.webdriver.firefox.options import Options\n",
    "from time import sleep\n",
    "#from parsel import Selector\n",
    "from selenium.webdriver.common.keys import Keys\n",
    "from selenium.webdriver.common.by import By\n",
    "from facebook_scraper import get_posts\n",
    "from multiprocessing import Pool, cpu_count\n",
    "import re\n",
    "from requests import get\n",
    "import pandas as pd\n",
    "import numpy as np\n",
    "import time\n",
    "\n",
    "load_dotenv()"
   ]
  },
  {
   "attachments": {},
   "cell_type": "markdown",
   "metadata": {},
   "source": [
    "## **SETUP**"
   ]
  },
  {
   "cell_type": "code",
   "execution_count": 2,
   "metadata": {},
   "outputs": [],
   "source": [
    "config = dotenv_values(\"../.env\")"
   ]
  },
  {
   "attachments": {},
   "cell_type": "markdown",
   "metadata": {},
   "source": [
    "## **Définiton de fonctions**"
   ]
  },
  {
   "cell_type": "code",
   "execution_count": 15,
   "metadata": {},
   "outputs": [],
   "source": [
    "# initialisation de selemium\n",
    "def recherche_google(localite,nbrePage):\n",
    "    #chargement du navigateur et de webdriver\n",
    "    driver = webdriver.Firefox()\n",
    "    driver.get(\"https://www.google.com\")\n",
    "    search_query = driver.find_element(By.NAME,'q')\n",
    "    search_query.send_keys('site:facebook.com AND'+'\"'+localite + '\"AND \"' + \"maison\" + '\"')\n",
    "    search_query.send_keys(Keys.RETURN)\n",
    "    #recherche des liens\n",
    "    \n",
    "    lienBon=[]\n",
    "    n=0\n",
    "    test=True\n",
    "    while test:\n",
    "        # faire une pause de 3 secondes\n",
    "        time.sleep(3)\n",
    "        if n< nbrePage:\n",
    "            try:\n",
    "                facebook_urls  = driver.find_elements(By.XPATH,\"//*[@class='yuRUbf']/a\")\n",
    "                print(facebook_urls)\n",
    "                for url in facebook_urls:\n",
    "                    lienBon.append(url.get_attribute('href'))\n",
    "\n",
    "                suivantpage=driver.find_element(By.ID,'pnnext')\n",
    "                print(suivantpage)\n",
    "                time.sleep(1)\n",
    "                suivantpage.click()\n",
    "                n=n+1\n",
    "            except Exception as e:\n",
    "                print(e)\n",
    "                test=False   \n",
    "        else:\n",
    "            test=False\n",
    "    return lienBon\n",
    "\n",
    "def postGroup(nbpage,idGroup,nMax):\n",
    "    n=0\n",
    "    ListPost=[]\n",
    "    for post in get_posts(idGroup, cookies='/Users/turing/Desktop/turing/projets/loyer_scrapping/res/cookies.txt', extra_info=True, pages=nbpage, options={\"comments\": False}):\n",
    "        print(post)\n",
    "        ListPost.append(post)\n",
    "        if n==nMax:\n",
    "            break\n",
    "    return ListPost\n",
    "\n",
    "def multiprocessing(postGroup , list):\n",
    "    with Pool(cpu_count()) as p:\n",
    "        print(cpu_count())\n",
    "        rec=p.starmap( postGroup,list)    \n",
    "        p.terminate()\n",
    "        p.join()\n",
    "        return rec\n",
    "# Lanceur du script"
   ]
  },
  {
   "cell_type": "code",
   "execution_count": null,
   "metadata": {},
   "outputs": [],
   "source": [
    "ListIdGroup=recherche_google(\"Yopougon\",3)"
   ]
  },
  {
   "cell_type": "code",
   "execution_count": null,
   "metadata": {},
   "outputs": [],
   "source": [
    "if __name__ == '__main__':\n",
    "        start_time = time.time()\n",
    "        list = ListIdGroup\n",
    "        ListeDictionnaire=multiprocessing(postGroup , list)\n",
    "        # decomenter la ligne suivante pour afficher les valeurs\n",
    "        print(ListeDictionnaire)\n",
    "        pd.DataFrame(ListeDictionnaire).to_csv(\"../data/output.csv\")\n",
    "        end_time = time.time() - start_time\n",
    "        # Fin des traitement\n",
    "        print(\"Temps total de compilation \"+str(end_time))"
   ]
  }
 ],
 "metadata": {
  "kernelspec": {
   "display_name": "ml",
   "language": "python",
   "name": "python3"
  },
  "language_info": {
   "codemirror_mode": {
    "name": "ipython",
    "version": 3
   },
   "file_extension": ".py",
   "mimetype": "text/x-python",
   "name": "python",
   "nbconvert_exporter": "python",
   "pygments_lexer": "ipython3",
   "version": "3.8.6"
  },
  "orig_nbformat": 4,
  "vscode": {
   "interpreter": {
    "hash": "7473ed803b1b416f48093b73458848e73ed5aebc736590e8f5a7a259d9c2dcc7"
   }
  }
 },
 "nbformat": 4,
 "nbformat_minor": 2
}
